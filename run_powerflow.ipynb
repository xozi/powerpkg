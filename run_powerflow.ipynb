{
 "cells": [
  {
   "cell_type": "markdown",
   "metadata": {},
   "source": [
    "# Power Distribution Analysis with CUDA\n",
    "\n",
    "This notebook compiles and runs the power distribution solver using CUDA.\n",
    "\n",
    "## Step 1: Set Up the Environment"
   ]
  },
  {
   "cell_type": "code",
   "execution_count": null,
   "metadata": {},
   "outputs": [],
   "source": [
    "# Check if GPU is available\n",
    "!nvidia-smi\n",
    "\n",
    "# Install necessary packages\n",
    "!apt-get update\n",
    "!apt-get install -y cmake ninja-build\n",
    "\n",
    "# Clone your repository (replace with your actual repository URL)\n",
    "!git clone https://github.com/TylerSystems/powerpkg.git\n",
    "%cd powerpkg\n",
    "\n",
    "# Create a build directory\n",
    "!mkdir -p build\n",
    "%cd build\n",
    "\n",
    "# Configure the project using CMake\n",
    "!cmake .. -GNinja\n",
    "\n",
    "# Build the project\n",
    "!ninja\n",
    "\n",
    "# Run the compiled binary\n",
    "!./powerpkg"
   ]
  }
 ],
 "metadata": {
  "kernelspec": {
   "display_name": ".venv",
   "language": "python",
   "name": "python3"
  },
  "language_info": {
   "name": "python",
   "version": "3.13.1"
  }
 },
 "nbformat": 4,
 "nbformat_minor": 2
}
